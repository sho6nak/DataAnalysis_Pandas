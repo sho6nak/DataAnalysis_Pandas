{
 "cells": [
  {
   "cell_type": "markdown",
   "metadata": {},
   "source": [
    "# Python Pandas Basic Functions\n",
    "## - *Imports for Pandas*\n",
    "---\n",
    "## - *Creating Data Frame*\n",
    "---\n",
    "## - Create Data frame from Dictionary of Series\n",
    "## - Create a Transpose of Data frame\n",
    "## - Understand nature of Transpose: \n",
    "## - The axes functionality: Shows Rows and Column Index ranges.\n",
    "## - Find the Data Type of each column-The dtype\n",
    "## - Is Data Frame Empty? The empty\n",
    "## - Find the Dimention of Object.  It is 2 for Data Frame- The ndim\n",
    "## - Get Tuple of Dimentions of a Data Frame- The Shape\n",
    "## - Get total number of elements in Data Frame- the size\n",
    "## - Get actual data of DF as NDarray\n",
    "## - Observe first few records.\n",
    "## - Observe last few records."
   ]
  },
  {
   "cell_type": "markdown",
   "metadata": {},
   "source": [
    "## Do necessary Imports"
   ]
  },
  {
   "cell_type": "code",
   "execution_count": 2,
   "metadata": {},
   "outputs": [],
   "source": [
    "import pandas as pd\n",
    "import numpy as np"
   ]
  },
  {
   "cell_type": "markdown",
   "metadata": {},
   "source": [
    "## Create Data Frame from Dictionary of Series"
   ]
  },
  {
   "cell_type": "code",
   "execution_count": 5,
   "metadata": {},
   "outputs": [
    {
     "name": "stdout",
     "output_type": "stream",
     "text": [
      "     Name   Age  BasSalary  Perks  TotalSal\n",
      "0     Tom  28.0     5000.0  500.0    5500.0\n",
      "1    Jack  34.0     5500.0  550.0    6050.0\n",
      "2   Steve  29.0        NaN  600.0       NaN\n",
      "3   Ricky   NaN     4000.0  400.0    4400.0\n",
      "4  Sachin  29.0     5001.0  501.0    5502.0\n",
      "5  Suresh  35.0     5501.0  551.0    6052.0\n",
      "6  Ramesh  30.0     6001.0  601.0    6602.0\n",
      "7  Rashmi  43.0     4001.0  401.0    4402.0\n"
     ]
    }
   ],
   "source": [
    "colName = pd.Series(['Tom', 'Jack', 'Steve', 'Ricky', 'Sachin', 'Suresh', 'Ramesh', 'Rashmi'])\n",
    "colAge  = pd.Series([28,34,29, None, 29,35,30,43])\n",
    "colBasSal  = pd.Series([5000.0, 5500.0, None, 4000.0, 5001.0, 5501.0, 6001, 4001.0])\n",
    "colPerks   = pd.Series([500.0, 550.0, 600, 400.0, 501.0, 551.0, 601, 401.0])\n",
    "\n",
    "#Create a Dictionary of series\n",
    "dict = {'Name': colName,\n",
    "   'Age': colAge,\n",
    "   'BasSalary':colBasSal,\n",
    "   'Perks' : colPerks\n",
    "    }\n",
    "\n",
    "df = pd.DataFrame(dict)\n",
    "\n",
    "df['TotalSal'] = df['BasSalary'] + df['Perks']\n",
    "print(df)"
   ]
  },
  {
   "cell_type": "markdown",
   "metadata": {},
   "source": [
    "## Create a Transpose"
   ]
  },
  {
   "cell_type": "code",
   "execution_count": 7,
   "metadata": {},
   "outputs": [
    {
     "name": "stdout",
     "output_type": "stream",
     "text": [
      "              0     1      2      3       4       5       6       7\n",
      "Name        Tom  Jack  Steve  Ricky  Sachin  Suresh  Ramesh  Rashmi\n",
      "Age          28    34     29    NaN      29      35      30      43\n",
      "BasSalary  5000  5500    NaN   4000    5001    5501    6001    4001\n",
      "Perks       500   550    600    400     501     551     601     401\n",
      "TotalSal   5500  6050    NaN   4400    5502    6052    6602    4402\n"
     ]
    }
   ],
   "source": [
    "dfT = df.T\n",
    "print(dfT)"
   ]
  },
  {
   "cell_type": "markdown",
   "metadata": {},
   "source": [
    "## What is the nature of Transpose?"
   ]
  },
  {
   "cell_type": "code",
   "execution_count": 17,
   "metadata": {},
   "outputs": [
    {
     "name": "stdout",
     "output_type": "stream",
     "text": [
      "Type of Transpose DF:  <class 'pandas.core.frame.DataFrame'>\n",
      "Type of Row:  <class 'pandas.core.series.Series'>\n",
      "Type of Column:  <class 'pandas.core.series.Series'>\n",
      "Row contents[Name]: \n",
      " 0       Tom\n",
      "1      Jack\n",
      "2     Steve\n",
      "3     Ricky\n",
      "4    Sachin\n",
      "5    Suresh\n",
      "6    Ramesh\n",
      "7    Rashmi\n",
      "Name: Name, dtype: object\n",
      "Column contents: \n",
      " Name          Tom\n",
      "Age            28\n",
      "BasSalary    5000\n",
      "Perks         500\n",
      "TotalSal     5500\n",
      "Name: 0, dtype: object\n"
     ]
    }
   ],
   "source": [
    "print(\"Type of Transpose DF: \", type(dfT))\n",
    "print(\"Type of Row: \", type(dfT.loc['Name']))\n",
    "print(\"Type of Column: \", type(dfT[0]))\n",
    "print(\"Row contents[Name]: \\n\", dfT.loc['Name'])\n",
    "print(\"Column contents: \\n\", dfT[0])"
   ]
  },
  {
   "cell_type": "markdown",
   "metadata": {},
   "source": [
    "## View Row Axes and Column Axes Labels"
   ]
  },
  {
   "cell_type": "code",
   "execution_count": 18,
   "metadata": {},
   "outputs": [
    {
     "name": "stdout",
     "output_type": "stream",
     "text": [
      "[RangeIndex(start=0, stop=8, step=1), Index(['Name', 'Age', 'BasSalary', 'Perks', 'TotalSal'], dtype='object')]\n",
      "[Index(['Name', 'Age', 'BasSalary', 'Perks', 'TotalSal'], dtype='object'), RangeIndex(start=0, stop=8, step=1)]\n"
     ]
    }
   ],
   "source": [
    "print(df.axes)\n",
    "print(dfT.axes)"
   ]
  },
  {
   "cell_type": "markdown",
   "metadata": {},
   "source": [
    "## Find the data type of each column"
   ]
  },
  {
   "cell_type": "code",
   "execution_count": 23,
   "metadata": {},
   "outputs": [
    {
     "name": "stdout",
     "output_type": "stream",
     "text": [
      "Data Frame: \n",
      " Name          object\n",
      "Age          float64\n",
      "BasSalary    float64\n",
      "Perks        float64\n",
      "TotalSal     float64\n",
      "dtype: object\n",
      "\n",
      "T Dataframe: \n",
      " 0    object\n",
      "1    object\n",
      "2    object\n",
      "3    object\n",
      "4    object\n",
      "5    object\n",
      "6    object\n",
      "7    object\n",
      "dtype: object\n"
     ]
    }
   ],
   "source": [
    "print(\"Data Frame: \\n\", df.dtypes)\n",
    "print(\"\\nT Dataframe: \\n\", dfT.dtypes)"
   ]
  },
  {
   "cell_type": "markdown",
   "metadata": {},
   "source": [
    "## Is Data Frame empty?"
   ]
  },
  {
   "cell_type": "code",
   "execution_count": 24,
   "metadata": {},
   "outputs": [
    {
     "name": "stdout",
     "output_type": "stream",
     "text": [
      "Is DF empty?  False\n",
      "Is T_DF empty?  False\n"
     ]
    }
   ],
   "source": [
    "print(\"Is DF empty? \", df.empty)\n",
    "print(\"Is DF_T empty? \", dfT.empty)"
   ]
  },
  {
   "cell_type": "markdown",
   "metadata": {},
   "source": [
    "## Print Dimention of the object"
   ]
  },
  {
   "cell_type": "code",
   "execution_count": 26,
   "metadata": {},
   "outputs": [
    {
     "name": "stdout",
     "output_type": "stream",
     "text": [
      "2\n",
      "2\n"
     ]
    }
   ],
   "source": [
    "print(df.ndim)\n",
    "print(dfT.ndim)"
   ]
  },
  {
   "cell_type": "markdown",
   "metadata": {},
   "source": [
    "## Get the Tuple of dimention of DF"
   ]
  },
  {
   "cell_type": "code",
   "execution_count": 27,
   "metadata": {},
   "outputs": [
    {
     "name": "stdout",
     "output_type": "stream",
     "text": [
      "(8, 5)\n",
      "(5, 8)\n"
     ]
    }
   ],
   "source": [
    "print(df.shape)\n",
    "print(dfT.shape)"
   ]
  },
  {
   "cell_type": "markdown",
   "metadata": {},
   "source": [
    "## Get the Number of elements in the DF"
   ]
  },
  {
   "cell_type": "code",
   "execution_count": 28,
   "metadata": {},
   "outputs": [
    {
     "name": "stdout",
     "output_type": "stream",
     "text": [
      "40\n",
      "40\n"
     ]
    }
   ],
   "source": [
    "print(df.size)\n",
    "print(dfT.size)"
   ]
  },
  {
   "cell_type": "markdown",
   "metadata": {},
   "source": [
    "## Get actual data from DF as NDarray"
   ]
  },
  {
   "cell_type": "code",
   "execution_count": 29,
   "metadata": {},
   "outputs": [
    {
     "name": "stdout",
     "output_type": "stream",
     "text": [
      "Values of Data Frame...\n",
      "[['Tom' 28.0 5000.0 500.0 5500.0]\n",
      " ['Jack' 34.0 5500.0 550.0 6050.0]\n",
      " ['Steve' 29.0 nan 600.0 nan]\n",
      " ['Ricky' nan 4000.0 400.0 4400.0]\n",
      " ['Sachin' 29.0 5001.0 501.0 5502.0]\n",
      " ['Suresh' 35.0 5501.0 551.0 6052.0]\n",
      " ['Ramesh' 30.0 6001.0 601.0 6602.0]\n",
      " ['Rashmi' 43.0 4001.0 401.0 4402.0]]\n",
      "\n",
      "Values of Transposed Data Frame...\n",
      "[['Tom' 'Jack' 'Steve' 'Ricky' 'Sachin' 'Suresh' 'Ramesh' 'Rashmi']\n",
      " [28.0 34.0 29.0 nan 29.0 35.0 30.0 43.0]\n",
      " [5000.0 5500.0 nan 4000.0 5001.0 5501.0 6001.0 4001.0]\n",
      " [500.0 550.0 600.0 400.0 501.0 551.0 601.0 401.0]\n",
      " [5500.0 6050.0 nan 4400.0 5502.0 6052.0 6602.0 4402.0]]\n"
     ]
    }
   ],
   "source": [
    "print(\"Values of Data Frame...\")\n",
    "print(df.values)\n",
    "print(\"\\nValues of Transposed Data Frame...\")\n",
    "print(dfT.values)"
   ]
  },
  {
   "cell_type": "markdown",
   "metadata": {},
   "source": [
    "## Print beginning N rows...(Default is 5)"
   ]
  },
  {
   "cell_type": "code",
   "execution_count": 31,
   "metadata": {},
   "outputs": [
    {
     "data": {
      "text/html": [
       "<div>\n",
       "<style scoped>\n",
       "    .dataframe tbody tr th:only-of-type {\n",
       "        vertical-align: middle;\n",
       "    }\n",
       "\n",
       "    .dataframe tbody tr th {\n",
       "        vertical-align: top;\n",
       "    }\n",
       "\n",
       "    .dataframe thead th {\n",
       "        text-align: right;\n",
       "    }\n",
       "</style>\n",
       "<table border=\"1\" class=\"dataframe\">\n",
       "  <thead>\n",
       "    <tr style=\"text-align: right;\">\n",
       "      <th></th>\n",
       "      <th>Name</th>\n",
       "      <th>Age</th>\n",
       "      <th>BasSalary</th>\n",
       "      <th>Perks</th>\n",
       "      <th>TotalSal</th>\n",
       "    </tr>\n",
       "  </thead>\n",
       "  <tbody>\n",
       "    <tr>\n",
       "      <th>0</th>\n",
       "      <td>Tom</td>\n",
       "      <td>28.0</td>\n",
       "      <td>5000.0</td>\n",
       "      <td>500.0</td>\n",
       "      <td>5500.0</td>\n",
       "    </tr>\n",
       "    <tr>\n",
       "      <th>1</th>\n",
       "      <td>Jack</td>\n",
       "      <td>34.0</td>\n",
       "      <td>5500.0</td>\n",
       "      <td>550.0</td>\n",
       "      <td>6050.0</td>\n",
       "    </tr>\n",
       "    <tr>\n",
       "      <th>2</th>\n",
       "      <td>Steve</td>\n",
       "      <td>29.0</td>\n",
       "      <td>NaN</td>\n",
       "      <td>600.0</td>\n",
       "      <td>NaN</td>\n",
       "    </tr>\n",
       "    <tr>\n",
       "      <th>3</th>\n",
       "      <td>Ricky</td>\n",
       "      <td>NaN</td>\n",
       "      <td>4000.0</td>\n",
       "      <td>400.0</td>\n",
       "      <td>4400.0</td>\n",
       "    </tr>\n",
       "  </tbody>\n",
       "</table>\n",
       "</div>"
      ],
      "text/plain": [
       "    Name   Age  BasSalary  Perks  TotalSal\n",
       "0    Tom  28.0     5000.0  500.0    5500.0\n",
       "1   Jack  34.0     5500.0  550.0    6050.0\n",
       "2  Steve  29.0        NaN  600.0       NaN\n",
       "3  Ricky   NaN     4000.0  400.0    4400.0"
      ]
     },
     "execution_count": 31,
     "metadata": {},
     "output_type": "execute_result"
    }
   ],
   "source": [
    "df.head(4)"
   ]
  },
  {
   "cell_type": "markdown",
   "metadata": {},
   "source": [
    "## Print ending N rows... (Default is 5)"
   ]
  },
  {
   "cell_type": "code",
   "execution_count": 32,
   "metadata": {},
   "outputs": [
    {
     "data": {
      "text/html": [
       "<div>\n",
       "<style scoped>\n",
       "    .dataframe tbody tr th:only-of-type {\n",
       "        vertical-align: middle;\n",
       "    }\n",
       "\n",
       "    .dataframe tbody tr th {\n",
       "        vertical-align: top;\n",
       "    }\n",
       "\n",
       "    .dataframe thead th {\n",
       "        text-align: right;\n",
       "    }\n",
       "</style>\n",
       "<table border=\"1\" class=\"dataframe\">\n",
       "  <thead>\n",
       "    <tr style=\"text-align: right;\">\n",
       "      <th></th>\n",
       "      <th>Name</th>\n",
       "      <th>Age</th>\n",
       "      <th>BasSalary</th>\n",
       "      <th>Perks</th>\n",
       "      <th>TotalSal</th>\n",
       "    </tr>\n",
       "  </thead>\n",
       "  <tbody>\n",
       "    <tr>\n",
       "      <th>4</th>\n",
       "      <td>Sachin</td>\n",
       "      <td>29.0</td>\n",
       "      <td>5001.0</td>\n",
       "      <td>501.0</td>\n",
       "      <td>5502.0</td>\n",
       "    </tr>\n",
       "    <tr>\n",
       "      <th>5</th>\n",
       "      <td>Suresh</td>\n",
       "      <td>35.0</td>\n",
       "      <td>5501.0</td>\n",
       "      <td>551.0</td>\n",
       "      <td>6052.0</td>\n",
       "    </tr>\n",
       "    <tr>\n",
       "      <th>6</th>\n",
       "      <td>Ramesh</td>\n",
       "      <td>30.0</td>\n",
       "      <td>6001.0</td>\n",
       "      <td>601.0</td>\n",
       "      <td>6602.0</td>\n",
       "    </tr>\n",
       "    <tr>\n",
       "      <th>7</th>\n",
       "      <td>Rashmi</td>\n",
       "      <td>43.0</td>\n",
       "      <td>4001.0</td>\n",
       "      <td>401.0</td>\n",
       "      <td>4402.0</td>\n",
       "    </tr>\n",
       "  </tbody>\n",
       "</table>\n",
       "</div>"
      ],
      "text/plain": [
       "     Name   Age  BasSalary  Perks  TotalSal\n",
       "4  Sachin  29.0     5001.0  501.0    5502.0\n",
       "5  Suresh  35.0     5501.0  551.0    6052.0\n",
       "6  Ramesh  30.0     6001.0  601.0    6602.0\n",
       "7  Rashmi  43.0     4001.0  401.0    4402.0"
      ]
     },
     "execution_count": 32,
     "metadata": {},
     "output_type": "execute_result"
    }
   ],
   "source": [
    "df.tail(4)"
   ]
  },
  {
   "cell_type": "code",
   "execution_count": null,
   "metadata": {},
   "outputs": [],
   "source": []
  }
 ],
 "metadata": {
  "kernelspec": {
   "display_name": "Python 3",
   "language": "python",
   "name": "python3"
  },
  "language_info": {
   "codemirror_mode": {
    "name": "ipython",
    "version": 3
   },
   "file_extension": ".py",
   "mimetype": "text/x-python",
   "name": "python",
   "nbconvert_exporter": "python",
   "pygments_lexer": "ipython3",
   "version": "3.7.5"
  }
 },
 "nbformat": 4,
 "nbformat_minor": 4
}
