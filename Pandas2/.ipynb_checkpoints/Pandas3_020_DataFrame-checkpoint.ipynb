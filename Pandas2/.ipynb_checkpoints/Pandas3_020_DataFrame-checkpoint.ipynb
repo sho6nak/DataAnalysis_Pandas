{
 "cells": [
  {
   "cell_type": "markdown",
   "metadata": {},
   "source": [
    "# Python Pandas Series\n",
    "## - *Imports for Pandas*\n",
    "---\n",
    "## - *Creating Data Frame*\n",
    "---\n",
    "## - Create an empty Data frame\n",
    "## - Create Data frame from List, column and dtype\n",
    "## - Create Data frame from Dictionary of List\n",
    "## - Create Data frame from List of Dictionary\n",
    "## - Create Data frame submitting colum names separately\n",
    "## - Create Data frame from Dictionary of Series\n",
    "## - Create Series from List\n",
    "---\n",
    "## - *Data Retrival*\n",
    "## - Retrive data on key\n",
    "## - Retrive data using for\n",
    "## - Retrive elements using slicing\n",
    "## - Retrive multiple elements\n",
    "## - What if wrong index is given?\n",
    "---\n",
    "## - Series Type\n",
    "## - Series Type after slicing\n",
    "## - Series Id"
   ]
  },
  {
   "cell_type": "markdown",
   "metadata": {},
   "source": [
    "## Do necessary Imports"
   ]
  },
  {
   "cell_type": "code",
   "execution_count": 1,
   "metadata": {},
   "outputs": [],
   "source": [
    "import pandas as pd\n",
    "import numpy as np"
   ]
  },
  {
   "cell_type": "markdown",
   "metadata": {},
   "source": [
    "---"
   ]
  },
  {
   "cell_type": "markdown",
   "metadata": {},
   "source": [
    "## Create Data Frames"
   ]
  },
  {
   "cell_type": "markdown",
   "metadata": {},
   "source": [
    "### Create Empty Data Frame"
   ]
  },
  {
   "cell_type": "code",
   "execution_count": 2,
   "metadata": {},
   "outputs": [
    {
     "name": "stdout",
     "output_type": "stream",
     "text": [
      "Empty DataFrame\n",
      "Columns: []\n",
      "Index: []\n"
     ]
    }
   ],
   "source": [
    "df = pd.DataFrame()\n",
    "print (df)"
   ]
  },
  {
   "cell_type": "markdown",
   "metadata": {},
   "source": [
    "### Create Dataframe from List"
   ]
  },
  {
   "cell_type": "code",
   "execution_count": 4,
   "metadata": {},
   "outputs": [
    {
     "name": "stdout",
     "output_type": "stream",
     "text": [
      "   0\n",
      "0  1\n",
      "1  2\n",
      "2  3\n",
      "3  4\n",
      "4  5\n"
     ]
    }
   ],
   "source": [
    "# Note, index is created using range(len(data)-1)\n",
    "data = [1,2,3,4,5]\n",
    "df = pd.DataFrame(data)\n",
    "print (df)"
   ]
  },
  {
   "cell_type": "markdown",
   "metadata": {},
   "source": [
    "### Create Dataframe from List of list with Columns, Index and dtype"
   ]
  },
  {
   "cell_type": "code",
   "execution_count": 12,
   "metadata": {},
   "outputs": [
    {
     "name": "stdout",
     "output_type": "stream",
     "text": [
      "     Name   Age\n",
      "1    Alex  10.0\n",
      "2     Bob  12.0\n",
      "3  Clarke  13.0\n"
     ]
    }
   ],
   "source": [
    "# Applies given dtype on all Numerics.  Infer dtype of other columns.\n",
    "data = [['Alex',10],['Bob',12],['Clarke',13]]\n",
    "df = pd.DataFrame(data,columns=['Name','Age'], index=[1, 2, 3], dtype=float )\n",
    "print (df)"
   ]
  },
  {
   "cell_type": "markdown",
   "metadata": {},
   "source": [
    "### Create Dataframe from Dictionary of list"
   ]
  },
  {
   "cell_type": "code",
   "execution_count": 15,
   "metadata": {},
   "outputs": [
    {
     "name": "stdout",
     "output_type": "stream",
     "text": [
      "    Name   Age\n",
      "1    Tom  28.0\n",
      "2   Jack  34.0\n",
      "3  Steve  29.0\n",
      "4  Ricky  42.0\n"
     ]
    }
   ],
   "source": [
    "# Note no need to mention column names.\n",
    "# If index is not given, it uses range()\n",
    "data = {'Name':['Tom', 'Jack', 'Steve', 'Ricky'],'Age':[28,34,29,42]}\n",
    "df = pd.DataFrame(data, index=[1, 2, 3, 4], dtype=float)\n",
    "print (df)"
   ]
  },
  {
   "cell_type": "markdown",
   "metadata": {},
   "source": [
    "### Create Dataframe from List of Dictionary"
   ]
  },
  {
   "cell_type": "code",
   "execution_count": 22,
   "metadata": {},
   "outputs": [
    {
     "name": "stdout",
     "output_type": "stream",
     "text": [
      "        Name   Age  Branch\n",
      "Ist      Tom  28.0     NaN\n",
      "IInd    Jack  34.0     NaN\n",
      "IIIrd  Steve  29.0     NaN\n",
      "IVth   Ricky   NaN  Mumbai\n"
     ]
    }
   ],
   "source": [
    "# Observe also the NaN for Branch.\n",
    "# Observe, index can be non-numeric\n",
    "data = [{'Name': 'Tom', 'Age': 28},{'Name': 'Jack', 'Age': 34}, {'Name': 'Steve', 'Age':29}, {'Name':'Ricky', 'Branch':'Mumbai'}]\n",
    "idx = ['Ist', 'IInd', 'IIIrd', 'IVth']\n",
    "df = pd.DataFrame(data, index = idx)\n",
    "print (df)"
   ]
  },
  {
   "cell_type": "markdown",
   "metadata": {},
   "source": [
    "### Column names override the column names given in the Dictionary"
   ]
  },
  {
   "cell_type": "code",
   "execution_count": 25,
   "metadata": {},
   "outputs": [
    {
     "name": "stdout",
     "output_type": "stream",
     "text": [
      "       NameEmp  AgeEmp  BranchCompany\n",
      "Ist        NaN     NaN            NaN\n",
      "IInd       NaN     NaN            NaN\n",
      "IIIrd      NaN     NaN            NaN\n",
      "IVth       NaN     NaN            NaN\n"
     ]
    }
   ],
   "source": [
    "data = [{'Name': 'Tom', 'Age': 28},{'Name': 'Jack', 'Age': 34}, {'Name': 'Steve', 'Age':29}, {'Name':'Ricky', 'Branch':'Mumbai'}]\n",
    "idx = ['Ist', 'IInd', 'IIIrd', 'IVth']\n",
    "column = ['NameEmp', 'AgeEmp', 'BranchCompany']\n",
    "df = pd.DataFrame(data, index = idx, columns = column)\n",
    "print (df)"
   ]
  },
  {
   "cell_type": "markdown",
   "metadata": {},
   "source": [
    "### Create Data Frame from Dictionary of Series"
   ]
  },
  {
   "cell_type": "code",
   "execution_count": 27,
   "metadata": {},
   "outputs": [
    {
     "name": "stdout",
     "output_type": "stream",
     "text": [
      "    Name   Age\n",
      "1   Jack  34.0\n",
      "2  Steve  29.0\n",
      "3  Ricky  42.0\n",
      "4    NaN   NaN\n"
     ]
    }
   ],
   "source": [
    "nameSeries = pd.Series(['Tom', 'Jack', 'Steve', 'Ricky'])\n",
    "ageSeries = pd.Series([28,34,29,42])\n",
    "idxSeries = pd.Series([1, 2, 3, 4])\n",
    "data = {'Name': nameSeries,'Age': ageSeries}\n",
    "df = pd.DataFrame(data, index=idxSeries)\n",
    "print (df)"
   ]
  },
  {
   "cell_type": "markdown",
   "metadata": {},
   "source": [
    "### List within list is not understood by Data Frame"
   ]
  },
  {
   "cell_type": "code",
   "execution_count": 42,
   "metadata": {},
   "outputs": [
    {
     "name": "stdout",
     "output_type": "stream",
     "text": [
      "   name  age\n",
      "0   NaN  NaN\n",
      "1   NaN  NaN\n"
     ]
    }
   ],
   "source": [
    "# Note List within list is not understood.\n",
    "nameSeries = pd.Series(['Tom', 'Jack', 'Steve', 'Ricky'])\n",
    "ageSeries = pd.Series([28,34,29,42])\n",
    "lst = [nameSeries, ageSeries]\n",
    "colm = ['name', 'age']\n",
    "df = pd.DataFrame(lst, columns=colm)\n",
    "print(df)"
   ]
  },
  {
   "cell_type": "code",
   "execution_count": null,
   "metadata": {},
   "outputs": [],
   "source": []
  }
 ],
 "metadata": {
  "kernelspec": {
   "display_name": "Python 3",
   "language": "python",
   "name": "python3"
  },
  "language_info": {
   "codemirror_mode": {
    "name": "ipython",
    "version": 3
   },
   "file_extension": ".py",
   "mimetype": "text/x-python",
   "name": "python",
   "nbconvert_exporter": "python",
   "pygments_lexer": "ipython3",
   "version": "3.7.5"
  }
 },
 "nbformat": 4,
 "nbformat_minor": 4
}
