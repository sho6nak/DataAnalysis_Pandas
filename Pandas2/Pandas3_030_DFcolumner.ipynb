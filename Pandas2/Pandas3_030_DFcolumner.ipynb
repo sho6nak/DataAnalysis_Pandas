{
 "cells": [
  {
   "cell_type": "code",
   "execution_count": null,
   "metadata": {},
   "outputs": [],
   "source": []
  },
  {
   "cell_type": "markdown",
   "metadata": {},
   "source": [
    "## Do necessary Imports"
   ]
  },
  {
   "cell_type": "code",
   "execution_count": 1,
   "metadata": {},
   "outputs": [],
   "source": [
    "import pandas as pd\n",
    "import numpy as np"
   ]
  },
  {
   "cell_type": "markdown",
   "metadata": {},
   "source": [
    "### Create Empty Data Frame"
   ]
  },
  {
   "cell_type": "code",
   "execution_count": 2,
   "metadata": {},
   "outputs": [
    {
     "name": "stdout",
     "output_type": "stream",
     "text": [
      "Empty DataFrame\n",
      "Columns: []\n",
      "Index: []\n"
     ]
    }
   ],
   "source": [
    "df = pd.DataFrame()\n",
    "print (df)"
   ]
  },
  {
   "cell_type": "markdown",
   "metadata": {},
   "source": [
    "### Add columns with List to empty Data Frame"
   ]
  },
  {
   "cell_type": "code",
   "execution_count": 4,
   "metadata": {},
   "outputs": [
    {
     "name": "stdout",
     "output_type": "stream",
     "text": [
      "    Name  Age  Salary\n",
      "1    Tom   28  5000.0\n",
      "2   Jack   34  5500.0\n",
      "3  Steve   29  6000.0\n",
      "4  Ricky   42  4000.0\n",
      "<class 'pandas.core.series.Series'>\n"
     ]
    }
   ],
   "source": [
    "colName = ['Tom', 'Jack', 'Steve', 'Ricky']\n",
    "colAge  = [28,34,29,42]\n",
    "colSal  = [5000.0, 5500.0, 6000, 4000.0]\n",
    "\n",
    "df = pd.DataFrame(index=[1, 2, 3, 4], dtype=float)\n",
    "\n",
    "df['Name'] = colName\n",
    "df['Age'] = colAge\n",
    "df['Salary'] = colSal\n",
    "print (df)\n",
    "print(type(df['Name'])) # It clearly means that when List is stored as column in Data Frame it goes there as Series."
   ]
  },
  {
   "cell_type": "markdown",
   "metadata": {},
   "source": [
    "### Add columns with Series to empty Data Frame"
   ]
  },
  {
   "cell_type": "code",
   "execution_count": 5,
   "metadata": {},
   "outputs": [
    {
     "name": "stdout",
     "output_type": "stream",
     "text": [
      "    Name   Age  Salary\n",
      "1   Jack  34.0  5500.0\n",
      "2  Steve  29.0  6000.0\n",
      "3  Ricky  42.0  4000.0\n",
      "4    NaN   NaN     NaN\n",
      "<class 'pandas.core.series.Series'>\n"
     ]
    }
   ],
   "source": [
    "colName = pd.Series(['Tom', 'Jack', 'Steve', 'Ricky'])\n",
    "colAge  = pd.Series([28,34,29,42])\n",
    "colBasSal  = pd.Series([5000.0, 5500.0, 6000, 4000.0])\n",
    "idxSeries = pd.Series([1, 2, 3, 4])\n",
    "\n",
    "df = pd.DataFrame(index=idxSeries, dtype=float)\n",
    "\n",
    "df['Name'] = colName\n",
    "df['Age'] = colAge\n",
    "df['Salary'] = colBasSal\n",
    "print (df)\n",
    "print(type(df['Name'])) # It clearly means that when List is stored as column in Data Frame it goes there as Series."
   ]
  },
  {
   "cell_type": "markdown",
   "metadata": {},
   "source": [
    "### Adding two columns to create a third column"
   ]
  },
  {
   "cell_type": "code",
   "execution_count": 6,
   "metadata": {},
   "outputs": [
    {
     "name": "stdout",
     "output_type": "stream",
     "text": [
      "    Name  Age  BasSalary  Perks  TotalSal\n",
      "1    Tom   28     5000.0  500.0    5500.0\n",
      "2   Jack   34     5500.0  550.0    6050.0\n",
      "3  Steve   29     6000.0  600.0    6600.0\n",
      "4  Ricky   42     4000.0  400.0    4400.0\n"
     ]
    }
   ],
   "source": [
    "colName = ['Tom', 'Jack', 'Steve', 'Ricky']\n",
    "colAge  = [28,34,29,42]\n",
    "colBasSal  = [5000.0, 5500.0, 6000, 4000.0]\n",
    "colPerks   = [500.0, 550.0, 600, 400.0]\n",
    "\n",
    "df = pd.DataFrame(index=[1, 2, 3, 4], dtype=float)\n",
    "\n",
    "df['Name'] = colName\n",
    "df['Age'] = colAge\n",
    "df['BasSalary'] = colBasSal\n",
    "df['Perks'] = colPerks\n",
    "df['TotalSal'] = df['BasSalary'] + df['Perks']\n",
    "print(df)"
   ]
  },
  {
   "cell_type": "markdown",
   "metadata": {},
   "source": [
    "### Delete a column using del and pop"
   ]
  },
  {
   "cell_type": "code",
   "execution_count": 7,
   "metadata": {},
   "outputs": [
    {
     "name": "stdout",
     "output_type": "stream",
     "text": [
      "Delete a BasSalary Column\n",
      "    Name  Age  Perks  TotalSal\n",
      "1    Tom   28  500.0    5500.0\n",
      "2   Jack   34  550.0    6050.0\n",
      "3  Steve   29  600.0    6600.0\n",
      "4  Ricky   42  400.0    4400.0\n",
      "Pop a Perks Salary\n",
      "    Name  Age  TotalSal\n",
      "1    Tom   28    5500.0\n",
      "2   Jack   34    6050.0\n",
      "3  Steve   29    6600.0\n",
      "4  Ricky   42    4400.0\n"
     ]
    }
   ],
   "source": [
    "colName = ['Tom', 'Jack', 'Steve', 'Ricky']\n",
    "colAge  = [28,34,29,42]\n",
    "colBasSal  = [5000.0, 5500.0, 6000, 4000.0]\n",
    "colPerks   = [500.0, 550.0, 600, 400.0]\n",
    "\n",
    "df = pd.DataFrame(index=[1, 2, 3, 4], dtype=float)\n",
    "\n",
    "df['Name'] = colName\n",
    "df['Age'] = colAge\n",
    "df['BasSalary'] = colBasSal\n",
    "df['Perks'] = colPerks\n",
    "df['TotalSal'] = df['BasSalary'] + df['Perks']\n",
    "\n",
    "print(\"Delete a BasSalary Column\")\n",
    "del(df['BasSalary'])\n",
    "print(df)\n",
    "\n",
    "print(\"Pop a Perks Salary\")\n",
    "df.pop('Perks')\n",
    "print(df)"
   ]
  },
  {
   "cell_type": "markdown",
   "metadata": {},
   "source": [
    "### Access employee details using index"
   ]
  },
  {
   "cell_type": "code",
   "execution_count": 9,
   "metadata": {},
   "outputs": [
    {
     "name": "stdout",
     "output_type": "stream",
     "text": [
      "Name          Tom\n",
      "Age            28\n",
      "BasSalary    5000\n",
      "Perks         500\n",
      "TotalSal     5500\n",
      "Name: 1, dtype: object\n"
     ]
    }
   ],
   "source": [
    "colName = ['Tom', 'Jack', 'Steve', 'Ricky']\n",
    "colAge  = [28,34,29,42]\n",
    "colBasSal  = [5000.0, 5500.0, 6000, 4000.0]\n",
    "colPerks   = [500.0, 550.0, 600, 400.0]\n",
    "\n",
    "df = pd.DataFrame(index=[1, 2, 3, 4], dtype=float)\n",
    "\n",
    "df['Name'] = colName\n",
    "df['Age'] = colAge\n",
    "df['BasSalary'] = colBasSal\n",
    "df['Perks'] = colPerks\n",
    "df['TotalSal'] = df['BasSalary'] + df['Perks']\n",
    "print(df.loc[1])"
   ]
  },
  {
   "cell_type": "markdown",
   "metadata": {},
   "source": [
    "### Access employee details using subscript"
   ]
  },
  {
   "cell_type": "code",
   "execution_count": 10,
   "metadata": {},
   "outputs": [
    {
     "name": "stdout",
     "output_type": "stream",
     "text": [
      "Name          Tom\n",
      "Age            28\n",
      "BasSalary    5000\n",
      "Perks         500\n",
      "TotalSal     5500\n",
      "Name: 1, dtype: object\n"
     ]
    }
   ],
   "source": [
    "print(df.iloc[0])"
   ]
  },
  {
   "cell_type": "markdown",
   "metadata": {},
   "source": [
    "### Creating new Data Frame using Sclicing"
   ]
  },
  {
   "cell_type": "code",
   "execution_count": 12,
   "metadata": {},
   "outputs": [
    {
     "name": "stdout",
     "output_type": "stream",
     "text": [
      "    Name  Age  BasSalary  Perks  TotalSal\n",
      "1    Tom   28     5000.0  500.0    5500.0\n",
      "2   Jack   34     5500.0  550.0    6050.0\n",
      "3  Steve   29     6000.0  600.0    6600.0\n"
     ]
    }
   ],
   "source": [
    "print(df[0:3])"
   ]
  },
  {
   "cell_type": "markdown",
   "metadata": {},
   "source": [
    "### Append new rows"
   ]
  },
  {
   "cell_type": "code",
   "execution_count": 25,
   "metadata": {},
   "outputs": [
    {
     "name": "stdout",
     "output_type": "stream",
     "text": [
      "     Name  Age  BasSalary  Perks  TotalSal\n",
      "1     Tom   28     5000.0  500.0    5500.0\n",
      "2    Jack   34     5500.0  550.0    6050.0\n",
      "3   Steve   29     6000.0  600.0    6600.0\n",
      "4   Ricky   42     4000.0  400.0    4400.0\n",
      "1  Sachin   29     5001.0  501.0    5502.0\n",
      "2  Suresh   35     5501.0  551.0    6052.0\n",
      "3  Ramesh   30     6001.0  601.0    6602.0\n",
      "4  Rashmi   43     4001.0  401.0    4402.0\n"
     ]
    }
   ],
   "source": [
    "colName = ['Sachin', 'Suresh', 'Ramesh', 'Rashmi']\n",
    "colAge  = [29,35,30,43]\n",
    "colBasSal  = [5001.0, 5501.0, 6001, 4001.0]\n",
    "colPerks   = [501.0, 551.0, 601, 401.0]\n",
    "\n",
    "# df1 = pd.DataFrame(index=[5, 6, 7, 8], dtype=float)\n",
    "df1 = pd.DataFrame(index=[1, 2, 3, 4], dtype=float)\n",
    "df1['Name'] = colName\n",
    "df1['Age'] = colAge\n",
    "df1['BasSalary'] = colBasSal\n",
    "df1['Perks'] = colPerks\n",
    "df1['TotalSal'] = df1['BasSalary'] + df1['Perks']\n",
    "\n",
    "# Append one Data Frame to another data frame\n",
    "df2 = df.append(df1)\n",
    "print(df2)"
   ]
  },
  {
   "cell_type": "markdown",
   "metadata": {},
   "source": [
    "### Deletion of Rows"
   ]
  },
  {
   "cell_type": "code",
   "execution_count": 26,
   "metadata": {},
   "outputs": [
    {
     "name": "stdout",
     "output_type": "stream",
     "text": [
      "     Name  Age  BasSalary  Perks  TotalSal\n",
      "2    Jack   34     5500.0  550.0    6050.0\n",
      "3   Steve   29     6000.0  600.0    6600.0\n",
      "4   Ricky   42     4000.0  400.0    4400.0\n",
      "2  Suresh   35     5501.0  551.0    6052.0\n",
      "3  Ramesh   30     6001.0  601.0    6602.0\n",
      "4  Rashmi   43     4001.0  401.0    4402.0\n"
     ]
    }
   ],
   "source": [
    "df3 = df2.drop(1)\n",
    "print(df3)"
   ]
  },
  {
   "cell_type": "markdown",
   "metadata": {},
   "source": [
    "### Other row wise action"
   ]
  },
  {
   "cell_type": "markdown",
   "metadata": {},
   "source": [
    "#### Using head()"
   ]
  },
  {
   "cell_type": "code",
   "execution_count": 27,
   "metadata": {},
   "outputs": [
    {
     "data": {
      "text/html": [
       "<div>\n",
       "<style scoped>\n",
       "    .dataframe tbody tr th:only-of-type {\n",
       "        vertical-align: middle;\n",
       "    }\n",
       "\n",
       "    .dataframe tbody tr th {\n",
       "        vertical-align: top;\n",
       "    }\n",
       "\n",
       "    .dataframe thead th {\n",
       "        text-align: right;\n",
       "    }\n",
       "</style>\n",
       "<table border=\"1\" class=\"dataframe\">\n",
       "  <thead>\n",
       "    <tr style=\"text-align: right;\">\n",
       "      <th></th>\n",
       "      <th>Name</th>\n",
       "      <th>Age</th>\n",
       "      <th>BasSalary</th>\n",
       "      <th>Perks</th>\n",
       "      <th>TotalSal</th>\n",
       "    </tr>\n",
       "  </thead>\n",
       "  <tbody>\n",
       "    <tr>\n",
       "      <th>2</th>\n",
       "      <td>Jack</td>\n",
       "      <td>34</td>\n",
       "      <td>5500.0</td>\n",
       "      <td>550.0</td>\n",
       "      <td>6050.0</td>\n",
       "    </tr>\n",
       "    <tr>\n",
       "      <th>3</th>\n",
       "      <td>Steve</td>\n",
       "      <td>29</td>\n",
       "      <td>6000.0</td>\n",
       "      <td>600.0</td>\n",
       "      <td>6600.0</td>\n",
       "    </tr>\n",
       "    <tr>\n",
       "      <th>4</th>\n",
       "      <td>Ricky</td>\n",
       "      <td>42</td>\n",
       "      <td>4000.0</td>\n",
       "      <td>400.0</td>\n",
       "      <td>4400.0</td>\n",
       "    </tr>\n",
       "  </tbody>\n",
       "</table>\n",
       "</div>"
      ],
      "text/plain": [
       "    Name  Age  BasSalary  Perks  TotalSal\n",
       "2   Jack   34     5500.0  550.0    6050.0\n",
       "3  Steve   29     6000.0  600.0    6600.0\n",
       "4  Ricky   42     4000.0  400.0    4400.0"
      ]
     },
     "execution_count": 27,
     "metadata": {},
     "output_type": "execute_result"
    }
   ],
   "source": [
    "df3.head(3)"
   ]
  },
  {
   "cell_type": "markdown",
   "metadata": {},
   "source": [
    "#### Using Shape"
   ]
  },
  {
   "cell_type": "code",
   "execution_count": 29,
   "metadata": {},
   "outputs": [
    {
     "data": {
      "text/plain": [
       "(6, 5)"
      ]
     },
     "execution_count": 29,
     "metadata": {},
     "output_type": "execute_result"
    }
   ],
   "source": [
    "df3.shape"
   ]
  },
  {
   "cell_type": "markdown",
   "metadata": {},
   "source": [
    "#### Calculating length"
   ]
  },
  {
   "cell_type": "code",
   "execution_count": 41,
   "metadata": {},
   "outputs": [
    {
     "name": "stdout",
     "output_type": "stream",
     "text": [
      "6\n"
     ]
    }
   ],
   "source": [
    "print(len(df3))"
   ]
  },
  {
   "cell_type": "markdown",
   "metadata": {},
   "source": [
    "### Filter for Salary >5000"
   ]
  },
  {
   "cell_type": "code",
   "execution_count": 34,
   "metadata": {},
   "outputs": [
    {
     "name": "stdout",
     "output_type": "stream",
     "text": [
      "Appended Data Frames...\n",
      "     Name  Age  BasSalary  Perks  TotalSal\n",
      "1     Tom   28     5000.0  500.0    5500.0\n",
      "2    Jack   34     5500.0  550.0    6050.0\n",
      "3   Steve   29     6000.0  600.0    6600.0\n",
      "4   Ricky   42     4000.0  400.0    4400.0\n",
      "5  Sachin   29     5001.0  501.0    5502.0\n",
      "6  Suresh   35     5501.0  551.0    6052.0\n",
      "7  Ramesh   30     6001.0  601.0    6602.0\n",
      "8  Rashmi   43     4001.0  401.0    4402.0\n",
      "--------------------------------------------\n",
      "Filtered Data Frames..\n",
      "    Name  Age  BasSalary  Perks  TotalSal\n",
      "2   Jack   34     5500.0  550.0    6050.0\n",
      "4  Ricky   42     4000.0  400.0    4400.0\n"
     ]
    }
   ],
   "source": [
    "# Create df1\n",
    "colName1 = ['Tom', 'Jack', 'Steve', 'Ricky']\n",
    "colAge1  = [28,34,29,42]\n",
    "colBasSal1  = [5000.0, 5500.0, 6000, 4000.0]\n",
    "colPerks1   = [500.0, 550.0, 600, 400.0]\n",
    "\n",
    "df1 = pd.DataFrame(index=[1, 2, 3, 4], dtype=float)\n",
    "\n",
    "df1['Name'] = colName1\n",
    "df1['Age'] = colAge1\n",
    "df1['BasSalary'] = colBasSal1\n",
    "df1['Perks'] = colPerks1\n",
    "df1['TotalSal'] = df1['BasSalary'] + df1['Perks']\n",
    "\n",
    "\n",
    "colName2 = ['Sachin', 'Suresh', 'Ramesh', 'Rashmi']\n",
    "colAge2  = [29,35,30,43]\n",
    "colBasSal2  = [5001.0, 5501.0, 6001, 4001.0]\n",
    "colPerks2   = [501.0, 551.0, 601, 401.0]\n",
    "\n",
    "df2 = pd.DataFrame(index=[5, 6, 7, 8], dtype=float)\n",
    "df2['Name'] = colName\n",
    "df2['Age'] = colAge\n",
    "df2['BasSalary'] = colBasSal\n",
    "df2['Perks'] = colPerks\n",
    "df2['TotalSal'] = df2['BasSalary'] + df2['Perks']\n",
    "\n",
    "# Append one Data Frame to another data frame\n",
    "df3 = df1.append(df2)\n",
    "\n",
    "print(\"Appended Data Frames...\")\n",
    "print(df3)\n",
    "print('--------------------------------------------')\n",
    "print(\"Filtered Data Frames..\")\n",
    "df_filtered = df[df['Age'] >= 30] \n",
    "print(df_filtered)"
   ]
  },
  {
   "cell_type": "code",
   "execution_count": 35,
   "metadata": {},
   "outputs": [
    {
     "name": "stdout",
     "output_type": "stream",
     "text": [
      "Filtered Data Frames..\n",
      "    Name  Age  BasSalary  Perks  TotalSal\n",
      "1    Tom   28     5000.0  500.0    5500.0\n",
      "4  Ricky   42     4000.0  400.0    4400.0\n"
     ]
    }
   ],
   "source": [
    "print(\"Filtered Data Frames..\")\n",
    "df_filtered = df[df['TotalSal'] < 6000] \n",
    "print(df_filtered)"
   ]
  },
  {
   "cell_type": "markdown",
   "metadata": {},
   "source": [
    "### Dropping the rows without values"
   ]
  },
  {
   "cell_type": "code",
   "execution_count": 42,
   "metadata": {},
   "outputs": [
    {
     "name": "stdout",
     "output_type": "stream",
     "text": [
      "     Name   Age  BasSalary  Perks  TotalSal\n",
      "1     Tom  28.0     5000.0  500.0    5500.0\n",
      "2    Jack  34.0     5500.0  550.0    6050.0\n",
      "3   Steve  29.0        NaN  600.0       NaN\n",
      "4   Ricky   NaN     4000.0  400.0    4400.0\n",
      "5  Sachin  29.0     5001.0  501.0    5502.0\n",
      "6  Suresh  35.0     5501.0  551.0    6052.0\n",
      "7  Ramesh  30.0     6001.0  601.0    6602.0\n",
      "8  Rashmi  43.0     4001.0  401.0    4402.0\n",
      "Total rows:  8\n",
      "----------------------\n",
      "     Name   Age  BasSalary  Perks  TotalSal\n",
      "1     Tom  28.0     5000.0  500.0    5500.0\n",
      "2    Jack  34.0     5500.0  550.0    6050.0\n",
      "5  Sachin  29.0     5001.0  501.0    5502.0\n",
      "6  Suresh  35.0     5501.0  551.0    6052.0\n",
      "7  Ramesh  30.0     6001.0  601.0    6602.0\n",
      "8  Rashmi  43.0     4001.0  401.0    4402.0\n",
      "Total rows:  6\n"
     ]
    }
   ],
   "source": [
    "# Create df\n",
    "colName = ['Tom', 'Jack', 'Steve', 'Ricky', 'Sachin', 'Suresh', 'Ramesh', 'Rashmi']\n",
    "colAge  = [28,34,29, None, 29,35,30,43]\n",
    "colBasSal  = [5000.0, 5500.0, None, 4000.0, 5001.0, 5501.0, 6001, 4001.0]\n",
    "colPerks   = [500.0, 550.0, 600, 400.0, 501.0, 551.0, 601, 401.0]\n",
    "\n",
    "df = pd.DataFrame(index=[1, 2, 3, 4, 5, 6, 7, 8], dtype=float)\n",
    "\n",
    "df['Name'] = colName\n",
    "df['Age'] = colAge\n",
    "df['BasSalary'] = colBasSal\n",
    "df['Perks'] = colPerks\n",
    "df['TotalSal'] = df['BasSalary'] + df['Perks']\n",
    "\n",
    "print(df)\n",
    "print(\"Total rows: \", len(df))\n",
    "print(\"----------------------\")\n",
    "df.dropna(inplace=True)\n",
    "print(df)\n",
    "print(\"Total rows: \", len(df))"
   ]
  },
  {
   "cell_type": "markdown",
   "metadata": {},
   "source": [
    "### Extracting a new Data Frame with different column set from existing data frame"
   ]
  },
  {
   "cell_type": "code",
   "execution_count": 43,
   "metadata": {},
   "outputs": [
    {
     "name": "stdout",
     "output_type": "stream",
     "text": [
      "     Name  Age  BasSalary  Perks  TotalSal\n",
      "1     Tom   28     5000.0  500.0    5500.0\n",
      "2    Jack   34     5500.0  550.0    6050.0\n",
      "3   Steve   29     6000.0  600.0    6600.0\n",
      "4   Ricky   42     4000.0  400.0    4400.0\n",
      "5  Sachin   29     5001.0  501.0    5502.0\n",
      "6  Suresh   35     5501.0  551.0    6052.0\n",
      "7  Ramesh   30     6001.0  601.0    6602.0\n",
      "8  Rashmi   43     4001.0  401.0    4402.0\n",
      "Total rows:  8\n",
      "----------------------\n",
      "     Name  TotalSal\n",
      "1     Tom    5500.0\n",
      "2    Jack    6050.0\n",
      "3   Steve    6600.0\n",
      "4   Ricky    4400.0\n",
      "5  Sachin    5502.0\n",
      "6  Suresh    6052.0\n",
      "7  Ramesh    6602.0\n",
      "8  Rashmi    4402.0\n"
     ]
    }
   ],
   "source": [
    "# Create df\n",
    "colName = ['Tom', 'Jack', 'Steve', 'Ricky', 'Sachin', 'Suresh', 'Ramesh', 'Rashmi']\n",
    "colAge  = [28,34,29, 42, 29,35,30,43]\n",
    "colBasSal  = [5000.0, 5500.0, 6000, 4000.0, 5001.0, 5501.0, 6001, 4001.0]\n",
    "colPerks   = [500.0, 550.0, 600, 400.0, 501.0, 551.0, 601, 401.0]\n",
    "\n",
    "df = pd.DataFrame(index=[1, 2, 3, 4, 5, 6, 7, 8], dtype=float)\n",
    "\n",
    "df['Name'] = colName\n",
    "df['Age'] = colAge\n",
    "df['BasSalary'] = colBasSal\n",
    "df['Perks'] = colPerks\n",
    "df['TotalSal'] = df['BasSalary'] + df['Perks']\n",
    "\n",
    "print(df)\n",
    "print(\"Total rows: \", len(df))\n",
    "print(\"----------------------\")\n",
    "df1 = pd.DataFrame(index=[1, 2, 3, 4, 5, 6, 7, 8], dtype=float)\n",
    "df1['Name'] = df['Name']\n",
    "df1['TotalSal'] = df['TotalSal']\n",
    "print(df1)"
   ]
  }
 ],
 "metadata": {
  "kernelspec": {
   "display_name": "Python 3",
   "language": "python",
   "name": "python3"
  },
  "language_info": {
   "codemirror_mode": {
    "name": "ipython",
    "version": 3
   },
   "file_extension": ".py",
   "mimetype": "text/x-python",
   "name": "python",
   "nbconvert_exporter": "python",
   "pygments_lexer": "ipython3",
   "version": "3.7.5"
  }
 },
 "nbformat": 4,
 "nbformat_minor": 4
}
